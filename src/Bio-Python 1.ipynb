{
 "cells": [
  {
   "cell_type": "markdown",
   "metadata": {},
   "source": [
    "# What is Biopython?\n",
    "\n",
    "The Biopython Project is an international association of developers of freely available Python (http://www.python.org) tools for computational molecular biology. Python is an object oriented, interpreted, flexible language that is becoming increasingly popular for scientific computing. Python is easy to learn, has a very clear syntax and can easily be extended with modules written in C, C++ or FORTRAN.\n",
    "\n",
    "source : http://biopython.org/DIST/docs/install/Installation.html"
   ]
  },
  {
   "cell_type": "markdown",
   "metadata": {},
   "source": [
    "## What are the uses of Bio Python?\n",
    "\n",
    "\n",
    "The main Biopython releases have lots of functionality, including:\n",
    "\n",
    "1. The ability to parse bioinformatics files into Python utilizable data structures, including support for the following formats:\n",
    "Blast output – both from standalone and WWW Blast\n",
    "    * Clustalw\n",
    "    * FASTA\n",
    "    * GenBank\n",
    "    * PubMed and Medline\n",
    "    * ExPASy files, like Enzyme and Prosite\n",
    "    * OP, including ‘dom’ and ‘lin’ files\n",
    "    * UniGen\n",
    "    * SwissProt\n",
    "2. Code to deal with popular on-line bioinformatics destinations such as:\n",
    " * NCBI – Blast, Entrez and PubMed services\n",
    " \n",
    "3. Tools for performing common operations on sequences, such as translation, transcription and weight calculations.\n",
    "\n",
    "4. and Much more since Python Rocks\n"
   ]
  },
  {
   "cell_type": "markdown",
   "metadata": {},
   "source": [
    "# Installation:\n",
    "\n",
    "Setup environment and required packages.\n",
    "\n",
    "refer requirements.txt"
   ]
  },
  {
   "cell_type": "code",
   "execution_count": null,
   "metadata": {
    "collapsed": true
   },
   "outputs": [],
   "source": []
  }
 ],
 "metadata": {
  "kernelspec": {
   "display_name": "Python 2",
   "language": "python",
   "name": "python2"
  },
  "language_info": {
   "codemirror_mode": {
    "name": "ipython",
    "version": 2
   },
   "file_extension": ".py",
   "mimetype": "text/x-python",
   "name": "python",
   "nbconvert_exporter": "python",
   "pygments_lexer": "ipython2",
   "version": "2.7.12"
  }
 },
 "nbformat": 4,
 "nbformat_minor": 2
}
